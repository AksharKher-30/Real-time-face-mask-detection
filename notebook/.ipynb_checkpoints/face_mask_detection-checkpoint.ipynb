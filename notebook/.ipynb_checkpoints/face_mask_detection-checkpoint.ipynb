{
 "cells": [
  {
   "cell_type": "code",
   "execution_count": 1,
   "id": "e212b06e-323c-4564-876e-e584f2b29435",
   "metadata": {},
   "outputs": [],
   "source": [
    "import tensorflow as tf\n",
    "from tensorflow import keras"
   ]
  },
  {
   "cell_type": "code",
   "execution_count": 3,
   "id": "f7dacd24-6bf0-4cec-ba84-43f43678f00b",
   "metadata": {},
   "outputs": [
    {
     "name": "stdout",
     "output_type": "stream",
     "text": [
      "TensorFlow version: 2.16.2\n",
      "Built with GPU support: False\n",
      "GPU Available: [PhysicalDevice(name='/physical_device:GPU:0', device_type='GPU')]\n"
     ]
    }
   ],
   "source": [
    "print(\"TensorFlow version:\", tf.__version__)\n",
    "print(\"Built with GPU support:\", tf.test.is_built_with_gpu_support())\n",
    "print(\"GPU Available:\", tf.config.list_physical_devices('GPU'))"
   ]
  },
  {
   "cell_type": "code",
   "execution_count": 7,
   "id": "c1d16a2f-c54f-4e53-8f5f-362c1432a8de",
   "metadata": {},
   "outputs": [],
   "source": [
    "import os\n",
    "import glob\n",
    "from lxml import etree\n",
    "import cv2"
   ]
  },
  {
   "cell_type": "code",
   "execution_count": 17,
   "id": "d9e744b4-6b12-44c8-b96d-2beef24035c7",
   "metadata": {},
   "outputs": [],
   "source": [
    "from xml_to_yolo import convert_xml_to_yolo"
   ]
  },
  {
   "cell_type": "markdown",
   "id": "8ba5bd3f-7fe2-4298-a8a8-e0bb62aafbf5",
   "metadata": {},
   "source": [
    "### converting xml to yolo txt"
   ]
  },
  {
   "cell_type": "code",
   "execution_count": 19,
   "id": "e2a96f33-a275-4f3e-9cfb-da59519e494f",
   "metadata": {},
   "outputs": [],
   "source": [
    "class_dict = {\n",
    "    'Mask': 0,\n",
    "    'No Mask': 1\n",
    "}\n",
    "\n",
    "convert_xml_to_yolo(\"data/train/annotations\", \"data/train/images\", \"labels/train\", class_dict)\n",
    "convert_xml_to_yolo(\"data/test/annotations\", \"data/test/images\", \"labels/test\", class_dict)"
   ]
  },
  {
   "cell_type": "code",
   "execution_count": 16,
   "id": "c81e3ed4-eec3-467d-b082-8e5655beac0a",
   "metadata": {},
   "outputs": [
    {
     "name": "stdout",
     "output_type": "stream",
     "text": [
      "🔎 Raw labels exactly as they appear in XML:\n",
      "\n",
      "Unique labels found:\n",
      "➤ 'No Mask'\n",
      "➤ 'Mask'\n"
     ]
    }
   ],
   "source": [
    "import glob\n",
    "from lxml import etree\n",
    "\n",
    "print(\"🔎 Raw labels exactly as they appear in XML:\")\n",
    "\n",
    "unique_labels = set()\n",
    "for xml_file in glob.glob(\"data/train/annotations/*.xml\"):\n",
    "    tree = etree.parse(xml_file)\n",
    "    root = tree.getroot()\n",
    "    for obj in root.findall('object'):\n",
    "        label = obj.find('name').text\n",
    "        unique_labels.add(label)\n",
    "\n",
    "print(\"\\nUnique labels found:\")\n",
    "for label in unique_labels:\n",
    "    print(f\"➤ '{label}'\")  # Quotes to visualize spaces"
   ]
  },
  {
   "cell_type": "code",
   "execution_count": null,
   "id": "abe85e45-743f-4877-b92b-fabf50bae49d",
   "metadata": {},
   "outputs": [],
   "source": []
  }
 ],
 "metadata": {
  "kernelspec": {
   "display_name": "Python (tfenv)",
   "language": "python",
   "name": "tfenv"
  },
  "language_info": {
   "codemirror_mode": {
    "name": "ipython",
    "version": 3
   },
   "file_extension": ".py",
   "mimetype": "text/x-python",
   "name": "python",
   "nbconvert_exporter": "python",
   "pygments_lexer": "ipython3",
   "version": "3.10.18"
  }
 },
 "nbformat": 4,
 "nbformat_minor": 5
}
